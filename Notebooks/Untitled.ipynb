{
 "cells": [
  {
   "cell_type": "code",
   "execution_count": 5,
   "metadata": {},
   "outputs": [],
   "source": [
    "import pandas as pd"
   ]
  },
  {
   "cell_type": "markdown",
   "metadata": {},
   "source": [
    "## Number of emails recieved for each user"
   ]
  },
  {
   "cell_type": "code",
   "execution_count": 8,
   "metadata": {},
   "outputs": [
    {
     "data": {
      "text/html": [
       "<div>\n",
       "<style scoped>\n",
       "    .dataframe tbody tr th:only-of-type {\n",
       "        vertical-align: middle;\n",
       "    }\n",
       "\n",
       "    .dataframe tbody tr th {\n",
       "        vertical-align: top;\n",
       "    }\n",
       "\n",
       "    .dataframe thead th {\n",
       "        text-align: right;\n",
       "    }\n",
       "</style>\n",
       "<table border=\"1\" class=\"dataframe\">\n",
       "  <thead>\n",
       "    <tr style=\"text-align: right;\">\n",
       "      <th></th>\n",
       "      <th>emails_id</th>\n",
       "      <th>emails_recipient_id</th>\n",
       "      <th>emails_date_sent</th>\n",
       "      <th>emails_frequency_level</th>\n",
       "    </tr>\n",
       "  </thead>\n",
       "  <tbody>\n",
       "    <tr>\n",
       "      <th>0</th>\n",
       "      <td>2337714</td>\n",
       "      <td>0c673e046d824ec0ad0ebe012a0673e4</td>\n",
       "      <td>2018-12-07 01:05:40 UTC+0000</td>\n",
       "      <td>email_notification_daily</td>\n",
       "    </tr>\n",
       "    <tr>\n",
       "      <th>1</th>\n",
       "      <td>2336077</td>\n",
       "      <td>0c673e046d824ec0ad0ebe012a0673e4</td>\n",
       "      <td>2018-12-06 01:14:15 UTC+0000</td>\n",
       "      <td>email_notification_daily</td>\n",
       "    </tr>\n",
       "    <tr>\n",
       "      <th>2</th>\n",
       "      <td>2314660</td>\n",
       "      <td>0c673e046d824ec0ad0ebe012a0673e4</td>\n",
       "      <td>2018-11-17 00:38:27 UTC+0000</td>\n",
       "      <td>email_notification_daily</td>\n",
       "    </tr>\n",
       "    <tr>\n",
       "      <th>3</th>\n",
       "      <td>2312639</td>\n",
       "      <td>0c673e046d824ec0ad0ebe012a0673e4</td>\n",
       "      <td>2018-11-16 00:32:19 UTC+0000</td>\n",
       "      <td>email_notification_daily</td>\n",
       "    </tr>\n",
       "    <tr>\n",
       "      <th>4</th>\n",
       "      <td>2299700</td>\n",
       "      <td>0c673e046d824ec0ad0ebe012a0673e4</td>\n",
       "      <td>2018-11-08 00:16:40 UTC+0000</td>\n",
       "      <td>email_notification_daily</td>\n",
       "    </tr>\n",
       "  </tbody>\n",
       "</table>\n",
       "</div>"
      ],
      "text/plain": [
       "   emails_id               emails_recipient_id              emails_date_sent  \\\n",
       "0    2337714  0c673e046d824ec0ad0ebe012a0673e4  2018-12-07 01:05:40 UTC+0000   \n",
       "1    2336077  0c673e046d824ec0ad0ebe012a0673e4  2018-12-06 01:14:15 UTC+0000   \n",
       "2    2314660  0c673e046d824ec0ad0ebe012a0673e4  2018-11-17 00:38:27 UTC+0000   \n",
       "3    2312639  0c673e046d824ec0ad0ebe012a0673e4  2018-11-16 00:32:19 UTC+0000   \n",
       "4    2299700  0c673e046d824ec0ad0ebe012a0673e4  2018-11-08 00:16:40 UTC+0000   \n",
       "\n",
       "     emails_frequency_level  \n",
       "0  email_notification_daily  \n",
       "1  email_notification_daily  \n",
       "2  email_notification_daily  \n",
       "3  email_notification_daily  \n",
       "4  email_notification_daily  "
      ]
     },
     "execution_count": 8,
     "metadata": {},
     "output_type": "execute_result"
    }
   ],
   "source": [
    "emails = pd.read_csv(\"../../../data-science-for-good-careervillage/emails.csv\")\n",
    "email_df = pd.DataFrame(emails)\n",
    "email_df.head()"
   ]
  },
  {
   "cell_type": "code",
   "execution_count": 26,
   "metadata": {},
   "outputs": [
    {
     "data": {
      "text/plain": [
       "0079e89bf1544926b98310e81315b9f1    3496\n",
       "36ff3b3666df400f956f8335cf53e09e    3348\n",
       "a082cb6441ce48f6bf9abe0f8e55d5fe    2970\n",
       "82d744719ffd452a8b1bd62cd17e5056    2637\n",
       "a41eeb74c7ad4310be0a166d3dac3d12    2587\n",
       "Name: emails_recipient_id, dtype: int64"
      ]
     },
     "execution_count": 26,
     "metadata": {},
     "output_type": "execute_result"
    }
   ],
   "source": [
    "user_email_count = email_df[\"emails_recipient_id\"].value_counts()\n",
    "user_email_count.head()"
   ]
  },
  {
   "cell_type": "markdown",
   "metadata": {},
   "source": [
    "## Import Professionals and count professions"
   ]
  },
  {
   "cell_type": "code",
   "execution_count": 29,
   "metadata": {},
   "outputs": [
    {
     "data": {
      "text/html": [
       "<div>\n",
       "<style scoped>\n",
       "    .dataframe tbody tr th:only-of-type {\n",
       "        vertical-align: middle;\n",
       "    }\n",
       "\n",
       "    .dataframe tbody tr th {\n",
       "        vertical-align: top;\n",
       "    }\n",
       "\n",
       "    .dataframe thead th {\n",
       "        text-align: right;\n",
       "    }\n",
       "</style>\n",
       "<table border=\"1\" class=\"dataframe\">\n",
       "  <thead>\n",
       "    <tr style=\"text-align: right;\">\n",
       "      <th></th>\n",
       "      <th>professionals_id</th>\n",
       "      <th>professionals_location</th>\n",
       "      <th>professionals_industry</th>\n",
       "      <th>professionals_headline</th>\n",
       "      <th>professionals_date_joined</th>\n",
       "    </tr>\n",
       "  </thead>\n",
       "  <tbody>\n",
       "    <tr>\n",
       "      <th>0</th>\n",
       "      <td>9ced4ce7519049c0944147afb75a8ce3</td>\n",
       "      <td>NaN</td>\n",
       "      <td>NaN</td>\n",
       "      <td>NaN</td>\n",
       "      <td>2011-10-05 20:35:19 UTC+0000</td>\n",
       "    </tr>\n",
       "    <tr>\n",
       "      <th>1</th>\n",
       "      <td>f718dcf6d2ec4cb0a52a9db59d7f9e67</td>\n",
       "      <td>NaN</td>\n",
       "      <td>NaN</td>\n",
       "      <td>NaN</td>\n",
       "      <td>2011-10-05 20:49:21 UTC+0000</td>\n",
       "    </tr>\n",
       "    <tr>\n",
       "      <th>2</th>\n",
       "      <td>0c673e046d824ec0ad0ebe012a0673e4</td>\n",
       "      <td>New York, New York</td>\n",
       "      <td>NaN</td>\n",
       "      <td>NaN</td>\n",
       "      <td>2011-10-18 17:31:26 UTC+0000</td>\n",
       "    </tr>\n",
       "    <tr>\n",
       "      <th>3</th>\n",
       "      <td>977428d851b24183b223be0eb8619a8c</td>\n",
       "      <td>Boston, Massachusetts</td>\n",
       "      <td>NaN</td>\n",
       "      <td>NaN</td>\n",
       "      <td>2011-11-09 20:39:29 UTC+0000</td>\n",
       "    </tr>\n",
       "    <tr>\n",
       "      <th>4</th>\n",
       "      <td>e2d57e5041a44f489288397c9904c2b2</td>\n",
       "      <td>NaN</td>\n",
       "      <td>NaN</td>\n",
       "      <td>NaN</td>\n",
       "      <td>2011-12-10 22:14:44 UTC+0000</td>\n",
       "    </tr>\n",
       "  </tbody>\n",
       "</table>\n",
       "</div>"
      ],
      "text/plain": [
       "                   professionals_id professionals_location  \\\n",
       "0  9ced4ce7519049c0944147afb75a8ce3                    NaN   \n",
       "1  f718dcf6d2ec4cb0a52a9db59d7f9e67                    NaN   \n",
       "2  0c673e046d824ec0ad0ebe012a0673e4     New York, New York   \n",
       "3  977428d851b24183b223be0eb8619a8c  Boston, Massachusetts   \n",
       "4  e2d57e5041a44f489288397c9904c2b2                    NaN   \n",
       "\n",
       "  professionals_industry professionals_headline     professionals_date_joined  \n",
       "0                    NaN                    NaN  2011-10-05 20:35:19 UTC+0000  \n",
       "1                    NaN                    NaN  2011-10-05 20:49:21 UTC+0000  \n",
       "2                    NaN                    NaN  2011-10-18 17:31:26 UTC+0000  \n",
       "3                    NaN                    NaN  2011-11-09 20:39:29 UTC+0000  \n",
       "4                    NaN                    NaN  2011-12-10 22:14:44 UTC+0000  "
      ]
     },
     "execution_count": 29,
     "metadata": {},
     "output_type": "execute_result"
    }
   ],
   "source": [
    "professions = pd.read_csv(\"../Data/professionals.csv\")\n",
    "professional_industry = pd.DataFrame(professions)\n",
    "professional_industry.head(5)"
   ]
  },
  {
   "cell_type": "code",
   "execution_count": 32,
   "metadata": {},
   "outputs": [
    {
     "data": {
      "text/plain": [
       "Telecommunications                                           3166\n",
       "Information Technology and Services                          2109\n",
       "Computer Software                                            1272\n",
       "Hospital and Health Care                                      862\n",
       "Higher Education                                              800\n",
       "Accounting                                                    781\n",
       "Financial Services                                            639\n",
       "Education Management                                          593\n",
       "Marketing and Advertising                                     526\n",
       "Internet                                                      427\n",
       "Human Resources                                               377\n",
       "Mechanical or Industrial Engineering                          359\n",
       "Management Consulting                                         354\n",
       "Research                                                      319\n",
       "Non-profit Organization Management                            293\n",
       "Law Practice                                                  287\n",
       "Entertainment                                                 283\n",
       "Health, Wellness and Fitness                                  253\n",
       "Medical Practice                                              246\n",
       "Computer Hardware                                             241\n",
       "Mental Health Care                                            222\n",
       "Biotechnology                                                 215\n",
       "Broadcast Media                                               201\n",
       "Pharmaceuticals                                               195\n",
       "Airlines/Aviation                                             192\n",
       "Design                                                        190\n",
       "Writing and Editing                                           181\n",
       "Computer Games                                                167\n",
       "Retail                                                        166\n",
       "Music                                                         165\n",
       "                                                             ... \n",
       "SaaS                                                            1\n",
       "Healthcare Recruiting                                           1\n",
       "Children & Family Services                                      1\n",
       "Video games (PC, MMO, Consoles and Mobile)                      1\n",
       "Professional Training, Career Coaching, Community Manager       1\n",
       "Law Enforcement & Psychiatry                                    1\n",
       "Magazine and Digital Media                                      1\n",
       "Advertising Photography                                         1\n",
       "Education, Math, Curriculum, Calculus                           1\n",
       "customer service                                                1\n",
       "Consumer                                                        1\n",
       "Behavioral Health Rehabilitative Services                       1\n",
       "Education; Health, Wellness and Fitness                         1\n",
       "Social Worker at a Law Practice                                 1\n",
       "Healthcare, Wellness and Fitness                                1\n",
       "Game development                                                1\n",
       "Counselling                                                     1\n",
       "Finance/ Entrepreneurship/Fashion/Sales                         1\n",
       "Retail Telecommunications Sales                                 1\n",
       "International Corporate Affairs                                 1\n",
       "Tax/Financial Services                                          1\n",
       "Seattle University                                              1\n",
       "Entertaiment                                                    1\n",
       "Video Games/Computer Software                                   1\n",
       "Health Industries                                               1\n",
       "Zoo keeping                                                     1\n",
       "Automotive and Engineering                                      1\n",
       "Aviation maintenance                                            1\n",
       "Telecommunications, IT                                          1\n",
       "biomedical sciences/ biomedical engineering                     1\n",
       "Name: professionals_industry, Length: 2470, dtype: int64"
      ]
     },
     "execution_count": 32,
     "metadata": {},
     "output_type": "execute_result"
    }
   ],
   "source": [
    "profession_count = professional_industry[\"professionals_industry\"].value_counts()\n",
    "profession_count"
   ]
  },
  {
   "cell_type": "code",
   "execution_count": null,
   "metadata": {},
   "outputs": [],
   "source": []
  }
 ],
 "metadata": {
  "kernelspec": {
   "display_name": "Python 3",
   "language": "python",
   "name": "python3"
  },
  "language_info": {
   "codemirror_mode": {
    "name": "ipython",
    "version": 3
   },
   "file_extension": ".py",
   "mimetype": "text/x-python",
   "name": "python",
   "nbconvert_exporter": "python",
   "pygments_lexer": "ipython3",
   "version": "3.6.7"
  }
 },
 "nbformat": 4,
 "nbformat_minor": 2
}
